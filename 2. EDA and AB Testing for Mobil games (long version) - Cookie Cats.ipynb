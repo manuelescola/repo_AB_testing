{
 "cells": [
  {
   "cell_type": "markdown",
   "id": "27e31b67",
   "metadata": {},
   "source": [
    "# AB Testing for Mobil games (complete version) - Cookie Cats"
   ]
  },
  {
   "cell_type": "markdown",
   "id": "907005fe",
   "metadata": {},
   "source": [
    "This notebook explores a dataset containing information about the users of a videogame. The code first explores the data and then analyses the results of an A/B testing."
   ]
  },
  {
   "cell_type": "markdown",
   "id": "83b1f23b",
   "metadata": {},
   "source": [
    "# Table of Contents"
   ]
  },
  {
   "cell_type": "markdown",
   "id": "f8f88cfe",
   "metadata": {},
   "source": [
    "- [Import libraries](#import-libraries)\n",
    "- [Import Dataset](#import-dataset)\n",
    "- [Exploratory and Descriptive Analysis](#exploratory-and-descriptive-analysis)\n",
    "  - [Initial exploration](#initial-exploration)\n",
    "  - [Group comparison: are the groups homogeneous?](#group-comparison-are-the-groups-homogeneous)\n",
    "    - [Number of users within each group](#number-of-users-within-each-group)\n",
    "    - [Analysis of Game Rounds](#analysis-of-game-rounds)\n",
    "      - [Average number of rounds](#average-number-of-rounds)\n",
    "      - [Analysis of the marginal distribution of Game Rounds for each group](#analysis-of-the-marginal-distribution-of-game-rounds-for-each-group)\n",
    "      - [Outliers analysis](#outliers-analysis)\n",
    "  - [Analysis of the treatment: did the groups receive the treatment?](#analysis-of-the-treatment-did-the-groups-receive-the-treatment)\n",
    "    - [Number of users that did not complete any round](#number-of-users-that-did-not-complete-any-round)\n",
    "    - [Number of users that reached the gate (received the treatment) within each group](#number-of-users-that-reached-the-gate-received-the-treatment-within-each-group)\n",
    "  - [Analysis of Retention (1 and 7 days after downloading the game)](#analysis-of-retention-1-and-7-days-after-downloading-the-game)\n",
    "    - [Percentage of players that came back after 1 and 7 days](#percentage-of-players-that-came-back-after-1-and-7-days)\n",
    "  - [EDA conclusions (Business Insights so far)](#eda-conclusions-business-insights-so-far)\n",
    "- [Hypothesis testing](#hypothesis-testing)\n",
    "  - [Dividing Dataset in Group A and B](#Dividing-Dataset-in-Group-A-and-B)\n",
    "  - [Difference in Means of Independent groups (variable: sum_gamerounds)](#Difference-in-Means-of-Independent-groups-(variable:-sum_gamerounds))\n",
    "    - [Relevant libraries](#Relevant-libraries)\n",
    "    - [ShapiroWilk Test](#ShapiroWilk-Test)\n",
    "    - [Levene test](#Levene-test)\n",
    "    - [Hypothesis testing with Mann Whitney U Test](#Hypothesis-testing-with-Mann-Whitney-U-Test)\n",
    "- [Conclusions](#conclusions)"
   ]
  },
  {
   "cell_type": "markdown",
   "id": "10d1815a",
   "metadata": {},
   "source": [
    "# Import Libraries"
   ]
  },
  {
   "cell_type": "code",
   "execution_count": 9,
   "id": "48763da1",
   "metadata": {},
   "outputs": [],
   "source": [
    "# General\n",
    "import numpy as np\n",
    "import pandas as pd\n",
    "import seaborn as sns\n",
    "import matplotlib.pyplot as plt\n",
    "import os\n",
    "\n",
    "# Hypothesis testing\n",
    "from scipy.stats import shapiro\n",
    "import scipy.stats as stats"
   ]
  },
  {
   "cell_type": "markdown",
   "id": "3f66a728",
   "metadata": {},
   "source": [
    "# Import Dataset"
   ]
  },
  {
   "cell_type": "code",
   "execution_count": 10,
   "id": "8a363b5d",
   "metadata": {},
   "outputs": [],
   "source": [
    "# File's path\n",
    "path = '.\\datasets\\cookie_cats.csv'\n",
    "\n",
    "# We make the importing code file type agnostic\n",
    "if path[-3::] == 'csv':\n",
    "    df = pd.read_csv(path)   \n",
    "elif path[-3::] == 'xlsx':\n",
    "    df = pd.read_excel(path)"
   ]
  },
  {
   "cell_type": "markdown",
   "id": "9e728f75",
   "metadata": {},
   "source": [
    "# Exploratory and Descriptive Analysis"
   ]
  },
  {
   "cell_type": "markdown",
   "id": "2a4c9aeb",
   "metadata": {},
   "source": [
    "## Initial exploration"
   ]
  },
  {
   "cell_type": "markdown",
   "id": "e91422e2",
   "metadata": {},
   "source": [
    "The dataset is composed by 5 variables and 90189 observations. The variables can be defined as follows:\n",
    "- `userid`: unique number to identify each user\n",
    "- `version`: two groups in which the users were divided to run the test. One group received the treatment when reaching level 30. The other on level 40.\n",
    "- `sum_gamerounds`: number of rounds the user has passed.\n",
    "- `retention_1`: True if he used the game during the next day after installing it. False otherwise.\n",
    "- `retention_7`: True if he used the game during the day 7 after installing it. False otherwise."
   ]
  },
  {
   "cell_type": "code",
   "execution_count": 11,
   "id": "1826c0b4",
   "metadata": {
    "scrolled": true
   },
   "outputs": [
    {
     "name": "stdout",
     "output_type": "stream",
     "text": [
      "(90189, 5)\n"
     ]
    },
    {
     "data": {
      "text/html": [
       "<div>\n",
       "<style scoped>\n",
       "    .dataframe tbody tr th:only-of-type {\n",
       "        vertical-align: middle;\n",
       "    }\n",
       "\n",
       "    .dataframe tbody tr th {\n",
       "        vertical-align: top;\n",
       "    }\n",
       "\n",
       "    .dataframe thead th {\n",
       "        text-align: right;\n",
       "    }\n",
       "</style>\n",
       "<table border=\"1\" class=\"dataframe\">\n",
       "  <thead>\n",
       "    <tr style=\"text-align: right;\">\n",
       "      <th></th>\n",
       "      <th>userid</th>\n",
       "      <th>version</th>\n",
       "      <th>sum_gamerounds</th>\n",
       "      <th>retention_1</th>\n",
       "      <th>retention_7</th>\n",
       "    </tr>\n",
       "  </thead>\n",
       "  <tbody>\n",
       "    <tr>\n",
       "      <th>0</th>\n",
       "      <td>116</td>\n",
       "      <td>gate_30</td>\n",
       "      <td>3</td>\n",
       "      <td>False</td>\n",
       "      <td>False</td>\n",
       "    </tr>\n",
       "    <tr>\n",
       "      <th>1</th>\n",
       "      <td>337</td>\n",
       "      <td>gate_30</td>\n",
       "      <td>38</td>\n",
       "      <td>True</td>\n",
       "      <td>False</td>\n",
       "    </tr>\n",
       "    <tr>\n",
       "      <th>2</th>\n",
       "      <td>377</td>\n",
       "      <td>gate_40</td>\n",
       "      <td>165</td>\n",
       "      <td>True</td>\n",
       "      <td>False</td>\n",
       "    </tr>\n",
       "    <tr>\n",
       "      <th>3</th>\n",
       "      <td>483</td>\n",
       "      <td>gate_40</td>\n",
       "      <td>1</td>\n",
       "      <td>False</td>\n",
       "      <td>False</td>\n",
       "    </tr>\n",
       "    <tr>\n",
       "      <th>4</th>\n",
       "      <td>488</td>\n",
       "      <td>gate_40</td>\n",
       "      <td>179</td>\n",
       "      <td>True</td>\n",
       "      <td>True</td>\n",
       "    </tr>\n",
       "  </tbody>\n",
       "</table>\n",
       "</div>"
      ],
      "text/plain": [
       "   userid  version  sum_gamerounds  retention_1  retention_7\n",
       "0     116  gate_30               3        False        False\n",
       "1     337  gate_30              38         True        False\n",
       "2     377  gate_40             165         True        False\n",
       "3     483  gate_40               1        False        False\n",
       "4     488  gate_40             179         True         True"
      ]
     },
     "execution_count": 11,
     "metadata": {},
     "output_type": "execute_result"
    }
   ],
   "source": [
    "print(df.shape)\n",
    "df.head()"
   ]
  },
  {
   "cell_type": "markdown",
   "id": "fe330913",
   "metadata": {},
   "source": [
    "The following code shows that there are no nun-values, as well as the type of each variable and the unique values within each column."
   ]
  },
  {
   "cell_type": "code",
   "execution_count": 12,
   "id": "cf2e3fc1",
   "metadata": {
    "scrolled": false
   },
   "outputs": [
    {
     "data": {
      "text/html": [
       "<div>\n",
       "<style scoped>\n",
       "    .dataframe tbody tr th:only-of-type {\n",
       "        vertical-align: middle;\n",
       "    }\n",
       "\n",
       "    .dataframe tbody tr th {\n",
       "        vertical-align: top;\n",
       "    }\n",
       "\n",
       "    .dataframe thead th {\n",
       "        text-align: right;\n",
       "    }\n",
       "</style>\n",
       "<table border=\"1\" class=\"dataframe\">\n",
       "  <thead>\n",
       "    <tr style=\"text-align: right;\">\n",
       "      <th></th>\n",
       "      <th>Non-Null</th>\n",
       "      <th>Dtype</th>\n",
       "      <th>Unique Values</th>\n",
       "    </tr>\n",
       "  </thead>\n",
       "  <tbody>\n",
       "    <tr>\n",
       "      <th>userid</th>\n",
       "      <td>90189</td>\n",
       "      <td>int64</td>\n",
       "      <td>90189</td>\n",
       "    </tr>\n",
       "    <tr>\n",
       "      <th>version</th>\n",
       "      <td>90189</td>\n",
       "      <td>object</td>\n",
       "      <td>2</td>\n",
       "    </tr>\n",
       "    <tr>\n",
       "      <th>sum_gamerounds</th>\n",
       "      <td>90189</td>\n",
       "      <td>int64</td>\n",
       "      <td>942</td>\n",
       "    </tr>\n",
       "    <tr>\n",
       "      <th>retention_1</th>\n",
       "      <td>90189</td>\n",
       "      <td>bool</td>\n",
       "      <td>2</td>\n",
       "    </tr>\n",
       "    <tr>\n",
       "      <th>retention_7</th>\n",
       "      <td>90189</td>\n",
       "      <td>bool</td>\n",
       "      <td>2</td>\n",
       "    </tr>\n",
       "  </tbody>\n",
       "</table>\n",
       "</div>"
      ],
      "text/plain": [
       "                Non-Null   Dtype  Unique Values\n",
       "userid             90189   int64          90189\n",
       "version            90189  object              2\n",
       "sum_gamerounds     90189   int64            942\n",
       "retention_1        90189    bool              2\n",
       "retention_7        90189    bool              2"
      ]
     },
     "execution_count": 12,
     "metadata": {},
     "output_type": "execute_result"
    }
   ],
   "source": [
    "df_info = pd.DataFrame(index=df.columns)\n",
    "\n",
    "df_info['Non-Null'] = df.notnull().sum()\n",
    "df_info['Dtype'] = df.dtypes\n",
    "df_info['Unique Values'] = df.nunique()\n",
    "df_info"
   ]
  },
  {
   "cell_type": "markdown",
   "id": "d77a8065",
   "metadata": {},
   "source": [
    "The statistics of the only two `int` variables are shown below."
   ]
  },
  {
   "cell_type": "code",
   "execution_count": 13,
   "id": "72dbd641",
   "metadata": {
    "scrolled": true
   },
   "outputs": [
    {
     "data": {
      "text/html": [
       "<div>\n",
       "<style scoped>\n",
       "    .dataframe tbody tr th:only-of-type {\n",
       "        vertical-align: middle;\n",
       "    }\n",
       "\n",
       "    .dataframe tbody tr th {\n",
       "        vertical-align: top;\n",
       "    }\n",
       "\n",
       "    .dataframe thead th {\n",
       "        text-align: right;\n",
       "    }\n",
       "</style>\n",
       "<table border=\"1\" class=\"dataframe\">\n",
       "  <thead>\n",
       "    <tr style=\"text-align: right;\">\n",
       "      <th></th>\n",
       "      <th>count</th>\n",
       "      <th>mean</th>\n",
       "      <th>std</th>\n",
       "      <th>min</th>\n",
       "      <th>25%</th>\n",
       "      <th>50%</th>\n",
       "      <th>75%</th>\n",
       "      <th>max</th>\n",
       "    </tr>\n",
       "  </thead>\n",
       "  <tbody>\n",
       "    <tr>\n",
       "      <th>userid</th>\n",
       "      <td>90189.0</td>\n",
       "      <td>4.998412e+06</td>\n",
       "      <td>2.883286e+06</td>\n",
       "      <td>116.0</td>\n",
       "      <td>2512230.0</td>\n",
       "      <td>4995815.0</td>\n",
       "      <td>7496452.0</td>\n",
       "      <td>9999861.0</td>\n",
       "    </tr>\n",
       "    <tr>\n",
       "      <th>sum_gamerounds</th>\n",
       "      <td>90189.0</td>\n",
       "      <td>5.187246e+01</td>\n",
       "      <td>1.950509e+02</td>\n",
       "      <td>0.0</td>\n",
       "      <td>5.0</td>\n",
       "      <td>16.0</td>\n",
       "      <td>51.0</td>\n",
       "      <td>49854.0</td>\n",
       "    </tr>\n",
       "  </tbody>\n",
       "</table>\n",
       "</div>"
      ],
      "text/plain": [
       "                  count          mean           std    min        25%  \\\n",
       "userid          90189.0  4.998412e+06  2.883286e+06  116.0  2512230.0   \n",
       "sum_gamerounds  90189.0  5.187246e+01  1.950509e+02    0.0        5.0   \n",
       "\n",
       "                      50%        75%        max  \n",
       "userid          4995815.0  7496452.0  9999861.0  \n",
       "sum_gamerounds       16.0       51.0    49854.0  "
      ]
     },
     "execution_count": 13,
     "metadata": {},
     "output_type": "execute_result"
    }
   ],
   "source": [
    "df.describe().T"
   ]
  },
  {
   "cell_type": "markdown",
   "id": "ab01a5ea",
   "metadata": {},
   "source": [
    "## Group comparison: are the groups homogeneous?"
   ]
  },
  {
   "cell_type": "markdown",
   "id": "79546640",
   "metadata": {},
   "source": [
    "In A/B testing, in order to eliminate (or at least diminish) the effect of confounding variables, it is necessary to have homogeneous control and testing groups. This sections explores if this requirement is met. "
   ]
  },
  {
   "cell_type": "markdown",
   "id": "80d4f1b1",
   "metadata": {},
   "source": [
    "### Number of users within each group"
   ]
  },
  {
   "cell_type": "code",
   "execution_count": 14,
   "id": "eed62dd7",
   "metadata": {
    "scrolled": false
   },
   "outputs": [
    {
     "data": {
      "image/png": "[encoded data removed]",
      "text/plain": [
       "<Figure size 360x360 with 1 Axes>"
      ]
     },
     "metadata": {},
     "output_type": "display_data"
    },
    {
     "name": "stdout",
     "output_type": "stream",
     "text": [
      "version\n",
      "gate_30    44700\n",
      "gate_40    45489\n",
      "Name: userid, dtype: int64\n"
     ]
    }
   ],
   "source": [
    "grouped_data = df.groupby('version').count()['userid']\n",
    "\n",
    "# Set color theme for the chart\n",
    "colors = ['skyblue', 'salmon']\n",
    "\n",
    "# Creating a more visually appealing pie chart\n",
    "plt.figure(figsize=(5, 5))\n",
    "patches, texts, autotexts = plt.pie(grouped_data, labels=grouped_data.index, colors=colors, startangle=140, autopct='%1.1f%%', explode=[0.05, 0.05])\n",
    "\n",
    "# Enhance font size for readability\n",
    "for text in texts:\n",
    "    text.set_fontsize(14)\n",
    "for autotext in autotexts:\n",
    "    autotext.set_fontsize(14)\n",
    "\n",
    "# Adding a title with a larger font size\n",
    "plt.title('Distribution of User IDs by Version', fontsize=16)\n",
    "\n",
    "# Optional: Adding a legend\n",
    "plt.legend(grouped_data.index, title=\"Versions\", title_fontsize=14, loc=\"upper left\")\n",
    "\n",
    "# Show the plot\n",
    "plt.tight_layout()\n",
    "plt.show()\n",
    "\n",
    "# Print the grouped data\n",
    "print(grouped_data)"
   ]
  },
  {
   "cell_type": "markdown",
   "id": "a117d263",
   "metadata": {},
   "source": [
    "### Analysis of Game Rounds"
   ]
  },
  {
   "cell_type": "markdown",
   "id": "63c2bd89",
   "metadata": {},
   "source": [
    "#### Average number of rounds"
   ]
  },
  {
   "cell_type": "code",
   "execution_count": 15,
   "id": "b4ed7b5e",
   "metadata": {
    "scrolled": false
   },
   "outputs": [
    {
     "data": {
      "image/png": "[encoded data removed]",
      "text/plain": [
       "<Figure size 360x360 with 1 Axes>"
      ]
     },
     "metadata": {},
     "output_type": "display_data"
    },
    {
     "name": "stdout",
     "output_type": "stream",
     "text": [
      "version\n",
      "gate_30    52.456264\n",
      "gate_40    51.298776\n",
      "Name: sum_gamerounds, dtype: float64\n"
     ]
    }
   ],
   "source": [
    "grouped_data = df.groupby('version').mean()['sum_gamerounds']\n",
    "\n",
    "# Set a style using seaborn for more appealing aesthetics\n",
    "sns.set(style=\"whitegrid\")\n",
    "\n",
    "# Creating the bar chart\n",
    "plt.figure(figsize=(5, 5))\n",
    "bars = plt.bar(grouped_data.index, height=grouped_data, color=['skyblue', 'salmon'])\n",
    "\n",
    "# Adding details to make the chart more informative and visually appealing\n",
    "plt.title('Average Number of Rounds Passed by Group', fontsize=16)\n",
    "plt.xlabel('Version', fontsize=14)\n",
    "plt.ylabel('Average Rounds', fontsize=14)\n",
    "plt.xticks(fontsize=12)\n",
    "plt.yticks(fontsize=12)\n",
    "\n",
    "# Adding the value on top of each bar for clarity\n",
    "for bar in bars:\n",
    "    yval = bar.get_height()\n",
    "    plt.text(bar.get_x() + bar.get_width()/2, yval, round(yval, 2), va='bottom', ha='center', fontsize=12)\n",
    "\n",
    "# Show the plot\n",
    "plt.tight_layout()\n",
    "plt.show()\n",
    "\n",
    "# Print the grouped data\n",
    "print(grouped_data)"
   ]
  },
  {
   "cell_type": "markdown",
   "id": "41c26d5c",
   "metadata": {},
   "source": [
    "#### Analysis of the marginal distribution of Game Rounds for each group"
   ]
  },
  {
   "cell_type": "code",
   "execution_count": 16,
   "id": "d974c3bb",
   "metadata": {},
   "outputs": [
    {
     "data": {
      "image/png": "[encoded data removed]",
      "text/plain": [
       "<Figure size 720x216 with 2 Axes>"
      ]
     },
     "metadata": {},
     "output_type": "display_data"
    }
   ],
   "source": [
    "# Set a style using seaborn for a more consistent and appealing look\n",
    "sns.set(style=\"whitegrid\")\n",
    "\n",
    "# Creating subplots\n",
    "fig, axes = plt.subplots(1, 2, figsize=(10, 3))\n",
    "\n",
    "# Histogram for gate_30\n",
    "df[df.version == \"gate_30\"].hist(\"sum_gamerounds\", ax=axes[0], color=\"skyblue\", bins=50)\n",
    "axes[0].set_title('Histogram of Gamerounds for Group Gate 30', fontsize=14)\n",
    "axes[0].set_xlabel('Gamerounds', fontsize=12)\n",
    "axes[0].set_ylabel('Frequency', fontsize=12)\n",
    "\n",
    "# Histogram for gate_40\n",
    "df[df.version == \"gate_40\"].hist(\"sum_gamerounds\", ax=axes[1], color=\"salmon\", bins=50)\n",
    "axes[1].set_title('Histogram of Gamerounds for Group Gate 40', fontsize=14)\n",
    "axes[1].set_xlabel('Gamerounds', fontsize=12)\n",
    "axes[1].set_ylabel('Frequency', fontsize=12)\n",
    "\n",
    "# Adjusting the layout for better visibility\n",
    "plt.tight_layout()\n",
    "\n",
    "# Show the plot\n",
    "plt.show()\n"
   ]
  },
  {
   "cell_type": "code",
   "execution_count": 17,
   "id": "113d0376",
   "metadata": {
    "scrolled": true
   },
   "outputs": [
    {
     "data": {
      "text/html": [
       "<div>\n",
       "<style scoped>\n",
       "    .dataframe tbody tr th:only-of-type {\n",
       "        vertical-align: middle;\n",
       "    }\n",
       "\n",
       "    .dataframe tbody tr th {\n",
       "        vertical-align: top;\n",
       "    }\n",
       "\n",
       "    .dataframe thead th {\n",
       "        text-align: right;\n",
       "    }\n",
       "</style>\n",
       "<table border=\"1\" class=\"dataframe\">\n",
       "  <thead>\n",
       "    <tr style=\"text-align: right;\">\n",
       "      <th></th>\n",
       "      <th>count</th>\n",
       "      <th>median</th>\n",
       "      <th>mean</th>\n",
       "      <th>std</th>\n",
       "      <th>max</th>\n",
       "    </tr>\n",
       "    <tr>\n",
       "      <th>version</th>\n",
       "      <th></th>\n",
       "      <th></th>\n",
       "      <th></th>\n",
       "      <th></th>\n",
       "      <th></th>\n",
       "    </tr>\n",
       "  </thead>\n",
       "  <tbody>\n",
       "    <tr>\n",
       "      <th>gate_30</th>\n",
       "      <td>44700</td>\n",
       "      <td>17.0</td>\n",
       "      <td>52.456264</td>\n",
       "      <td>256.716423</td>\n",
       "      <td>49854</td>\n",
       "    </tr>\n",
       "    <tr>\n",
       "      <th>gate_40</th>\n",
       "      <td>45489</td>\n",
       "      <td>16.0</td>\n",
       "      <td>51.298776</td>\n",
       "      <td>103.294416</td>\n",
       "      <td>2640</td>\n",
       "    </tr>\n",
       "  </tbody>\n",
       "</table>\n",
       "</div>"
      ],
      "text/plain": [
       "         count  median       mean         std    max\n",
       "version                                             \n",
       "gate_30  44700    17.0  52.456264  256.716423  49854\n",
       "gate_40  45489    16.0  51.298776  103.294416   2640"
      ]
     },
     "execution_count": 17,
     "metadata": {},
     "output_type": "execute_result"
    }
   ],
   "source": [
    "df.groupby(\"version\")['sum_gamerounds'].agg([\"count\", \"median\", \"mean\", \"std\", \"max\"])"
   ]
  },
  {
   "cell_type": "markdown",
   "id": "a40fe01a",
   "metadata": {},
   "source": [
    "#### Outliers analysis"
   ]
  },
  {
   "cell_type": "code",
   "execution_count": 18,
   "id": "6889f3db",
   "metadata": {
    "scrolled": true
   },
   "outputs": [
    {
     "data": {
      "text/html": [
       "<div>\n",
       "<style scoped>\n",
       "    .dataframe tbody tr th:only-of-type {\n",
       "        vertical-align: middle;\n",
       "    }\n",
       "\n",
       "    .dataframe tbody tr th {\n",
       "        vertical-align: top;\n",
       "    }\n",
       "\n",
       "    .dataframe thead th {\n",
       "        text-align: right;\n",
       "    }\n",
       "</style>\n",
       "<table border=\"1\" class=\"dataframe\">\n",
       "  <thead>\n",
       "    <tr style=\"text-align: right;\">\n",
       "      <th></th>\n",
       "      <th>userid</th>\n",
       "      <th>version</th>\n",
       "      <th>sum_gamerounds</th>\n",
       "      <th>retention_1</th>\n",
       "      <th>retention_7</th>\n",
       "    </tr>\n",
       "  </thead>\n",
       "  <tbody>\n",
       "    <tr>\n",
       "      <th>57702</th>\n",
       "      <td>6390605</td>\n",
       "      <td>gate_30</td>\n",
       "      <td>49854</td>\n",
       "      <td>False</td>\n",
       "      <td>True</td>\n",
       "    </tr>\n",
       "    <tr>\n",
       "      <th>7912</th>\n",
       "      <td>871500</td>\n",
       "      <td>gate_30</td>\n",
       "      <td>2961</td>\n",
       "      <td>True</td>\n",
       "      <td>True</td>\n",
       "    </tr>\n",
       "    <tr>\n",
       "      <th>29417</th>\n",
       "      <td>3271615</td>\n",
       "      <td>gate_40</td>\n",
       "      <td>2640</td>\n",
       "      <td>True</td>\n",
       "      <td>False</td>\n",
       "    </tr>\n",
       "    <tr>\n",
       "      <th>43671</th>\n",
       "      <td>4832608</td>\n",
       "      <td>gate_30</td>\n",
       "      <td>2438</td>\n",
       "      <td>True</td>\n",
       "      <td>True</td>\n",
       "    </tr>\n",
       "    <tr>\n",
       "      <th>48188</th>\n",
       "      <td>5346171</td>\n",
       "      <td>gate_40</td>\n",
       "      <td>2294</td>\n",
       "      <td>True</td>\n",
       "      <td>True</td>\n",
       "    </tr>\n",
       "    <tr>\n",
       "      <th>...</th>\n",
       "      <td>...</td>\n",
       "      <td>...</td>\n",
       "      <td>...</td>\n",
       "      <td>...</td>\n",
       "      <td>...</td>\n",
       "    </tr>\n",
       "    <tr>\n",
       "      <th>59687</th>\n",
       "      <td>6610805</td>\n",
       "      <td>gate_30</td>\n",
       "      <td>0</td>\n",
       "      <td>False</td>\n",
       "      <td>False</td>\n",
       "    </tr>\n",
       "    <tr>\n",
       "      <th>23707</th>\n",
       "      <td>2639282</td>\n",
       "      <td>gate_40</td>\n",
       "      <td>0</td>\n",
       "      <td>False</td>\n",
       "      <td>False</td>\n",
       "    </tr>\n",
       "    <tr>\n",
       "      <th>59670</th>\n",
       "      <td>6608718</td>\n",
       "      <td>gate_30</td>\n",
       "      <td>0</td>\n",
       "      <td>False</td>\n",
       "      <td>False</td>\n",
       "    </tr>\n",
       "    <tr>\n",
       "      <th>59645</th>\n",
       "      <td>6604544</td>\n",
       "      <td>gate_30</td>\n",
       "      <td>0</td>\n",
       "      <td>False</td>\n",
       "      <td>False</td>\n",
       "    </tr>\n",
       "    <tr>\n",
       "      <th>45094</th>\n",
       "      <td>4995815</td>\n",
       "      <td>gate_40</td>\n",
       "      <td>0</td>\n",
       "      <td>False</td>\n",
       "      <td>False</td>\n",
       "    </tr>\n",
       "  </tbody>\n",
       "</table>\n",
       "<p>90189 rows × 5 columns</p>\n",
       "</div>"
      ],
      "text/plain": [
       "        userid  version  sum_gamerounds  retention_1  retention_7\n",
       "57702  6390605  gate_30           49854        False         True\n",
       "7912    871500  gate_30            2961         True         True\n",
       "29417  3271615  gate_40            2640         True        False\n",
       "43671  4832608  gate_30            2438         True         True\n",
       "48188  5346171  gate_40            2294         True         True\n",
       "...        ...      ...             ...          ...          ...\n",
       "59687  6610805  gate_30               0        False        False\n",
       "23707  2639282  gate_40               0        False        False\n",
       "59670  6608718  gate_30               0        False        False\n",
       "59645  6604544  gate_30               0        False        False\n",
       "45094  4995815  gate_40               0        False        False\n",
       "\n",
       "[90189 rows x 5 columns]"
      ]
     },
     "execution_count": 18,
     "metadata": {},
     "output_type": "execute_result"
    }
   ],
   "source": [
    "df.sort_values(by='sum_gamerounds', ascending=False)"
   ]
  },
  {
   "cell_type": "code",
   "execution_count": 19,
   "id": "caee4716",
   "metadata": {},
   "outputs": [],
   "source": [
    "df.drop(57702, inplace=True)"
   ]
  },
  {
   "cell_type": "code",
   "execution_count": 20,
   "id": "9054ce24",
   "metadata": {
    "scrolled": true
   },
   "outputs": [
    {
     "data": {
      "image/png": "[encoded data removed]",
      "text/plain": [
       "<Figure size 1080x360 with 2 Axes>"
      ]
     },
     "metadata": {},
     "output_type": "display_data"
    }
   ],
   "source": [
    "# Set a style using seaborn for a more consistent and appealing look\n",
    "sns.set(style=\"whitegrid\")\n",
    "\n",
    "# Creating subplots\n",
    "fig, axes = plt.subplots(1, 2, figsize=(15, 5))\n",
    "\n",
    "# Histogram for gate_30\n",
    "df[df.version == \"gate_30\"].hist(\"sum_gamerounds\", ax=axes[0], color=\"skyblue\", bins=120)\n",
    "axes[0].set_title('Histogram of Gamerounds for Group Gate 30', fontsize=14)\n",
    "axes[0].set_xlabel('Gamerounds', fontsize=12)\n",
    "axes[0].set_ylabel('Frequency', fontsize=12)\n",
    "\n",
    "# Histogram for gate_40\n",
    "df[df.version == \"gate_40\"].hist(\"sum_gamerounds\", ax=axes[1], color=\"salmon\", bins=120)\n",
    "axes[1].set_title('Histogram of Gamerounds for Group Gate 40', fontsize=14)\n",
    "axes[1].set_xlabel('Gamerounds', fontsize=12)\n",
    "axes[1].set_ylabel('Frequency', fontsize=12)\n",
    "\n",
    "# Adjusting the layout for better visibility\n",
    "plt.tight_layout()\n",
    "\n",
    "# Show the plot\n",
    "plt.show()"
   ]
  },
  {
   "cell_type": "markdown",
   "id": "2304d513",
   "metadata": {},
   "source": [
    "## Analysis of the treatment: did the groups received the treatment?"
   ]
  },
  {
   "cell_type": "markdown",
   "id": "c23a257f",
   "metadata": {},
   "source": [
    "### Number of users that did not complete any round"
   ]
  },
  {
   "cell_type": "code",
   "execution_count": 21,
   "id": "19fd517e",
   "metadata": {},
   "outputs": [
    {
     "data": {
      "text/plain": [
       "version\n",
       "gate_30    1937\n",
       "gate_40    2057\n",
       "Name: userid, dtype: int64"
      ]
     },
     "execution_count": 21,
     "metadata": {},
     "output_type": "execute_result"
    }
   ],
   "source": [
    "df_zero = df[df['sum_gamerounds']==0]\n",
    "\n",
    "n_non_players = df_zero.groupby('version').count()['userid']\n",
    "n_non_players"
   ]
  },
  {
   "cell_type": "code",
   "execution_count": 22,
   "id": "1e987342",
   "metadata": {},
   "outputs": [
    {
     "data": {
      "image/png": "[encoded data removed]",
      "text/plain": [
       "<Figure size 360x360 with 1 Axes>"
      ]
     },
     "metadata": {},
     "output_type": "display_data"
    }
   ],
   "source": [
    "plt.figure(figsize=(5, 5))\n",
    "bars = plt.bar(n_non_players.index, height=n_non_players, color=['skyblue', 'salmon'])\n",
    "\n",
    "# Adding the value on top of each bar\n",
    "for bar in bars:\n",
    "    yval = bar.get_height()\n",
    "    plt.text(bar.get_x() + bar.get_width() / 2, yval, round(yval, 2), va='bottom', ha='center')\n",
    "\n",
    "plt.title('Number of users that completed 0 rounds', fontsize=14)   \n",
    "# Show the plot\n",
    "plt.tight_layout()\n",
    "plt.show()"
   ]
  },
  {
   "cell_type": "markdown",
   "id": "622f1849",
   "metadata": {},
   "source": [
    "### Number of users that reached the gate (received the treatment) within each group"
   ]
  },
  {
   "cell_type": "code",
   "execution_count": 23,
   "id": "e13e8f00",
   "metadata": {},
   "outputs": [],
   "source": [
    "filt_gate_30 = (df['version'] == 'gate_30')\n",
    "filt_gate_40 = (df['version'] == 'gate_40')\n",
    "\n",
    "filt_sum_rounds_30 = df['sum_gamerounds']>=30\n",
    "filt_sum_rounds_40 = df['sum_gamerounds']>=40\n",
    "\n",
    "df_30 = df[filt_gate_30 & filt_sum_rounds_30]\n",
    "df_40 = df[filt_gate_40 & filt_sum_rounds_40]"
   ]
  },
  {
   "cell_type": "code",
   "execution_count": 24,
   "id": "a4930130",
   "metadata": {},
   "outputs": [],
   "source": [
    "gate_players = pd.Series([len(df_30), len(df_40)], index=['gate_30', 'gate_40'])"
   ]
  },
  {
   "cell_type": "code",
   "execution_count": 25,
   "id": "f7898283",
   "metadata": {},
   "outputs": [
    {
     "data": {
      "image/png": "[encoded data removed]",
      "text/plain": [
       "<Figure size 360x360 with 1 Axes>"
      ]
     },
     "metadata": {},
     "output_type": "display_data"
    }
   ],
   "source": [
    "plt.figure(figsize=(5, 5))\n",
    "bars = plt.bar(gate_players.index, height=gate_players, color=['skyblue', 'salmon'])\n",
    "\n",
    "# Adding the value on top of each bar\n",
    "for bar in bars:\n",
    "    yval = bar.get_height()\n",
    "    plt.text(bar.get_x() + bar.get_width() / 2, yval, round(yval, 2), va='bottom', ha='center')\n",
    "\n",
    "plt.title('Number of users that reached the gate within each group', fontsize=14)   \n",
    "# Show the plot\n",
    "plt.tight_layout()\n",
    "plt.show()"
   ]
  },
  {
   "cell_type": "markdown",
   "id": "40728726",
   "metadata": {},
   "source": [
    "## Analysis of Retention (1 and 7 days after downloading the game)"
   ]
  },
  {
   "cell_type": "markdown",
   "id": "843e095f",
   "metadata": {},
   "source": [
    "### Percentage of players that came back after 1 and 7 days"
   ]
  },
  {
   "cell_type": "code",
   "execution_count": 26,
   "id": "c22215fd",
   "metadata": {},
   "outputs": [
    {
     "name": "stdout",
     "output_type": "stream",
     "text": [
      "Number of users that came back after 1 and 7 days:\n"
     ]
    },
    {
     "data": {
      "text/html": [
       "<div>\n",
       "<style scoped>\n",
       "    .dataframe tbody tr th:only-of-type {\n",
       "        vertical-align: middle;\n",
       "    }\n",
       "\n",
       "    .dataframe tbody tr th {\n",
       "        vertical-align: top;\n",
       "    }\n",
       "\n",
       "    .dataframe thead th {\n",
       "        text-align: right;\n",
       "    }\n",
       "</style>\n",
       "<table border=\"1\" class=\"dataframe\">\n",
       "  <thead>\n",
       "    <tr style=\"text-align: right;\">\n",
       "      <th></th>\n",
       "      <th>retention_1</th>\n",
       "      <th>retention_7</th>\n",
       "    </tr>\n",
       "    <tr>\n",
       "      <th>version</th>\n",
       "      <th></th>\n",
       "      <th></th>\n",
       "    </tr>\n",
       "  </thead>\n",
       "  <tbody>\n",
       "    <tr>\n",
       "      <th>gate_30</th>\n",
       "      <td>20034</td>\n",
       "      <td>8501</td>\n",
       "    </tr>\n",
       "    <tr>\n",
       "      <th>gate_40</th>\n",
       "      <td>20119</td>\n",
       "      <td>8279</td>\n",
       "    </tr>\n",
       "  </tbody>\n",
       "</table>\n",
       "</div>"
      ],
      "text/plain": [
       "         retention_1  retention_7\n",
       "version                          \n",
       "gate_30        20034         8501\n",
       "gate_40        20119         8279"
      ]
     },
     "metadata": {},
     "output_type": "display_data"
    },
    {
     "name": "stdout",
     "output_type": "stream",
     "text": [
      "\n",
      "\n",
      "% over the total number of users:\n"
     ]
    },
    {
     "data": {
      "text/html": [
       "<div>\n",
       "<style scoped>\n",
       "    .dataframe tbody tr th:only-of-type {\n",
       "        vertical-align: middle;\n",
       "    }\n",
       "\n",
       "    .dataframe tbody tr th {\n",
       "        vertical-align: top;\n",
       "    }\n",
       "\n",
       "    .dataframe thead th {\n",
       "        text-align: right;\n",
       "    }\n",
       "</style>\n",
       "<table border=\"1\" class=\"dataframe\">\n",
       "  <thead>\n",
       "    <tr style=\"text-align: right;\">\n",
       "      <th></th>\n",
       "      <th>retention_1</th>\n",
       "      <th>retention_7</th>\n",
       "    </tr>\n",
       "    <tr>\n",
       "      <th>version</th>\n",
       "      <th></th>\n",
       "      <th></th>\n",
       "    </tr>\n",
       "  </thead>\n",
       "  <tbody>\n",
       "    <tr>\n",
       "      <th>gate_30</th>\n",
       "      <td>44.82</td>\n",
       "      <td>19.02</td>\n",
       "    </tr>\n",
       "    <tr>\n",
       "      <th>gate_40</th>\n",
       "      <td>44.23</td>\n",
       "      <td>18.20</td>\n",
       "    </tr>\n",
       "  </tbody>\n",
       "</table>\n",
       "</div>"
      ],
      "text/plain": [
       "         retention_1  retention_7\n",
       "version                          \n",
       "gate_30        44.82        19.02\n",
       "gate_40        44.23        18.20"
      ]
     },
     "execution_count": 26,
     "metadata": {},
     "output_type": "execute_result"
    }
   ],
   "source": [
    "print('Number of users that came back after 1 and 7 days:')\n",
    "display(df.groupby('version').sum()[['retention_1', 'retention_7']])\n",
    "print('\\n')\n",
    "print('% over the total number of users:')\n",
    "round(df.groupby('version').mean()[['retention_1', 'retention_7']]*100,2)"
   ]
  },
  {
   "cell_type": "code",
   "execution_count": 27,
   "id": "7a37d7d5",
   "metadata": {
    "scrolled": false
   },
   "outputs": [
    {
     "data": {
      "image/png": "[encoded data removed]",
      "text/plain": [
       "<Figure size 864x360 with 2 Axes>"
      ]
     },
     "metadata": {},
     "output_type": "display_data"
    }
   ],
   "source": [
    "# Calculating mean and rounding\n",
    "mean_retention = round(df.groupby('version').mean()[['retention_1', 'retention_7']] * 100, 2)\n",
    "\n",
    "# Creating subplots\n",
    "fig, axes = plt.subplots(1, 2, figsize=(12, 5))\n",
    "\n",
    "# Bar plot for retention_1\n",
    "axes[0].bar(mean_retention.index, mean_retention['retention_1'], color=['skyblue', 'salmon'])\n",
    "axes[0].set_title('Retention after 1 Day', fontsize=14)\n",
    "axes[0].set_xlabel('Version')\n",
    "axes[0].set_ylabel('Retention Percentage')\n",
    "axes[0].set_ylim(0, 50)\n",
    "\n",
    "# Bar plot for retention_7\n",
    "axes[1].bar(mean_retention.index, mean_retention['retention_7'], color=['skyblue', 'salmon'])\n",
    "axes[1].set_title('Retention after 7 Days', fontsize=14)\n",
    "axes[1].set_xlabel('Version')\n",
    "axes[1].set_ylabel('Retention Percentage')\n",
    "axes[1].set_ylim(0, 50)  \n",
    "\n",
    "# Adjusting layout and showing plot\n",
    "plt.tight_layout()\n",
    "plt.show()"
   ]
  },
  {
   "cell_type": "markdown",
   "id": "52bd3bbf",
   "metadata": {},
   "source": [
    "## EDA conclusions (Business Insights so far)"
   ]
  },
  {
   "cell_type": "markdown",
   "id": "69d2ac33",
   "metadata": {},
   "source": [
    "**Summary of the findings:**\n",
    "- The users have been divided by approximately half in control (gate_30) and treatment (gate_40) group.\n",
    "- After dropping the main outlier, the groups follow a similar distribution in terms of number of game rounds per user and number of users that did not complete any round. \n",
    "- The number of users within the gate_30 group that reached the gate is higher in group gate_30 than in group gate_40. This was expected since the latter group needs to have played 10 more rounds to reached the gate. However, the number of people that reached the gate (and therefore received the treatment) in both groups are very numerous (16k and almost 14k, rspectively).\n",
    "- Both groups present similar 1-day and 7-day retention rates, but the gate_40 group presents a slighly lower retention rate for both time horizons.\n",
    "\n",
    "**Main conclusions:**\n",
    "- The groups are quite homogeneous, which allows to conduct the A/B testing.\n",
    "- An hyopthesis testing can be conducted to assess whether the difference in the retention rate between groups is statistically significant. "
   ]
  },
  {
   "cell_type": "markdown",
   "id": "94d6ccb2",
   "metadata": {},
   "source": [
    "# Hypothesis testing"
   ]
  },
  {
   "cell_type": "markdown",
   "id": "3d9c52e4",
   "metadata": {},
   "source": [
    "## Dividing Dataset in Group A and B"
   ]
  },
  {
   "cell_type": "code",
   "execution_count": 28,
   "id": "f621763d",
   "metadata": {},
   "outputs": [],
   "source": [
    "df_A = df[df['version']=='gate_30'].copy()\n",
    "df_B = df[df['version']=='gate_40'].copy()"
   ]
  },
  {
   "cell_type": "code",
   "execution_count": 29,
   "id": "bf562ed9",
   "metadata": {},
   "outputs": [
    {
     "data": {
      "text/plain": [
       "True"
      ]
     },
     "execution_count": 29,
     "metadata": {},
     "output_type": "execute_result"
    }
   ],
   "source": [
    "# Check\n",
    "len(df) == len(df_A) + len(df_B)"
   ]
  },
  {
   "cell_type": "markdown",
   "id": "571fa90b",
   "metadata": {},
   "source": [
    "## Difference in Means of Independent groups (variable: sum_gamerounds)"
   ]
  },
  {
   "cell_type": "markdown",
   "id": "e3664c3a",
   "metadata": {},
   "source": [
    "**We will conduct the following steps:**\n",
    "* Check if the variable to test follows a normal distribution in both groups (Shapiro-Wilk Test). <br>\n",
    "\n",
    "\n",
    "    - If it does not follow a normal distribution:\n",
    "        * Conduct a non-parametric test (Mann Whitney U Test).\n",
    " \n",
    "    - If it follows a normal distribution:\n",
    "        * Check Homogeneity of Variances (Levene's test). \n",
    "            * If variances are not homogeneous: Conduct a T-test. \n",
    "            * If variances are homogeneous: Conduct a Welch Test. \n"
   ]
  },
  {
   "cell_type": "markdown",
   "id": "bef808c1",
   "metadata": {},
   "source": [
    "### Relevant libraries"
   ]
  },
  {
   "cell_type": "code",
   "execution_count": 30,
   "id": "815663db",
   "metadata": {},
   "outputs": [],
   "source": [
    "from scipy.stats import shapiro\n",
    "import scipy.stats as stats"
   ]
  },
  {
   "cell_type": "markdown",
   "id": "26ff9881",
   "metadata": {},
   "source": [
    "### ShapiroWilk Test"
   ]
  },
  {
   "cell_type": "markdown",
   "id": "f84db7df",
   "metadata": {},
   "source": [
    "From the histograms above, we can deduce that the distribution of the variable `sum_gamerounds` is not normal in either of the groups. However, we can run a Shapiro test to confirm the non-normality of the variable. The test must be interpreted as follows:\n",
    "- Ho: The variable follows a normal distribution\n",
    "- Ha: The variable does not follow a normal distribution"
   ]
  },
  {
   "cell_type": "code",
   "execution_count": 31,
   "id": "1fd3bd1d",
   "metadata": {},
   "outputs": [
    {
     "name": "stdout",
     "output_type": "stream",
     "text": [
      "P-value of Shapiro test for Group A: 0.0\n",
      "P-value of Shapiro test for Group B: 0.0\n",
      "\n",
      "\n",
      "Therefore, the variable does not follow a normal distribution in one or both of the groups.\n"
     ]
    },
    {
     "name": "stderr",
     "output_type": "stream",
     "text": [
      "C:\\Users\\Manuel\\AppData\\Roaming\\Python\\Python39\\site-packages\\scipy\\stats\\_morestats.py:1882: UserWarning: p-value may not be accurate for N > 5000.\n",
      "  warnings.warn(\"p-value may not be accurate for N > 5000.\")\n"
     ]
    }
   ],
   "source": [
    "norm_A = shapiro(df_A[\"sum_gamerounds\"])[1]\n",
    "norm_B = shapiro(df_B[\"sum_gamerounds\"])[1]\n",
    "\n",
    "print(f'P-value of Shapiro test for Group A: {norm_A}')\n",
    "print(f'P-value of Shapiro test for Group B: {norm_B}')\n",
    "print('\\n')\n",
    "\n",
    "if (norm_A > 0.05) & (norm_B > 0.05):\n",
    "    print('Therefore, the variable follows a normal distribution in both groups.')\n",
    "else:\n",
    "    print('Therefore, the variable does not follow a normal distribution in one or both of the groups.')"
   ]
  },
  {
   "cell_type": "markdown",
   "id": "eb139842",
   "metadata": {},
   "source": [
    "### Levene test"
   ]
  },
  {
   "cell_type": "markdown",
   "id": "b53e4800",
   "metadata": {},
   "source": [
    "Since the variable does not follow a normal distribution, we have to conduct a non-parametric test. Here, we implement a Mann Whitney U Test."
   ]
  },
  {
   "cell_type": "markdown",
   "id": "644eee88",
   "metadata": {},
   "source": [
    "### Hypothesis testing with Mann Whitney U Test"
   ]
  },
  {
   "cell_type": "code",
   "execution_count": 32,
   "id": "130f645d",
   "metadata": {},
   "outputs": [
    {
     "name": "stdout",
     "output_type": "stream",
     "text": [
      "The p-value of the test is 0.051. Therefore, we reject the Null-Hypothesis at 10.0% level of significance.\n"
     ]
    }
   ],
   "source": [
    "ttest = stats.mannwhitneyu(df_A['sum_gamerounds'], df_B['sum_gamerounds'])\n",
    "ttest\n",
    "alpha = 0.10\n",
    "\n",
    "if ttest[1] >= alpha:\n",
    "    print(f'The p-value of the test is {ttest[1]:.2}. Therefore, we fail to reject the Null-Hypothesis at {alpha*100:.3}% level of significance.')\n",
    "else:\n",
    "    print(f'The p-value of the test is {ttest[1]:.2}. Therefore, we reject the Null-Hypothesis at {alpha*100:.3}% level of significance.')"
   ]
  },
  {
   "cell_type": "markdown",
   "id": "bc3d1acc",
   "metadata": {},
   "source": [
    "**Note**: We could also use the CLT and conduct a T-test since the sample is quite big."
   ]
  },
  {
   "cell_type": "markdown",
   "id": "a62d0f67",
   "metadata": {},
   "source": [
    "# Conclusions"
   ]
  },
  {
   "cell_type": "markdown",
   "id": "a81cfb12",
   "metadata": {},
   "source": [
    "The experiment demonstrates with 90% confidence that introducing the gate at level 40 significantly impacts player retention. Essentially, players facing the gate at level 30 are more inclined to play additional levels compared to those encountering it at level 40. This phenomenon aligns with the 'theory of hedonic adaptation', suggesting that continuous play diminishes enjoyment. Introducing a break at the gate helps maintain interest, but a later gate at level 40 leads to earlier player drop-off due to reduced engagement."
   ]
  }
 ],
 "metadata": {
  "kernelspec": {
   "display_name": "Python 3 (ipykernel)",
   "language": "python",
   "name": "python3"
  },
  "language_info": {
   "codemirror_mode": {
    "name": "ipython",
    "version": 3
   },
   "file_extension": ".py",
   "mimetype": "text/x-python",
   "name": "python",
   "nbconvert_exporter": "python",
   "pygments_lexer": "ipython3",
   "version": "3.9.12"
  }
 },
 "nbformat": 4,
 "nbformat_minor": 5
}
